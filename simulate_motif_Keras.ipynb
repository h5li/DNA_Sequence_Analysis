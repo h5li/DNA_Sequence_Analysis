{
 "cells": [
  {
   "cell_type": "code",
   "execution_count": 152,
   "metadata": {},
   "outputs": [],
   "source": [
    "from keras.models import Sequential\n",
    "from keras.layers import Dense, Activation, Conv1D, GlobalAveragePooling1D, MaxPooling1D\n",
    "from keras import regularizers as kr\n",
    "from keras.utils import to_categorical\n",
    "import numpy as np\n",
    "import pandas as pd\n",
    "import seaborn as sns \n",
    "import matplotlib.pyplot as plt\n",
    "from tensorflow.python.keras.callbacks import EarlyStopping"
   ]
  },
  {
   "cell_type": "code",
   "execution_count": 161,
   "metadata": {},
   "outputs": [
    {
     "name": "stdout",
     "output_type": "stream",
     "text": [
      "_________________________________________________________________\n",
      "Layer (type)                 Output Shape              Param #   \n",
      "=================================================================\n",
      "conv1d_42 (Conv1D)           (None, 197, 1)            17        \n",
      "_________________________________________________________________\n",
      "global_average_pooling1d_42  (None, 1)                 0         \n",
      "_________________________________________________________________\n",
      "dense_42 (Dense)             (None, 1)                 2         \n",
      "=================================================================\n",
      "Total params: 19\n",
      "Trainable params: 19\n",
      "Non-trainable params: 0\n",
      "_________________________________________________________________\n"
     ]
    }
   ],
   "source": [
    "# Note: Need to use the Keras_test kernel (on dobro), which has keras etc. installs\n",
    "model = Sequential()\n",
    "nfilt = 1\n",
    "filtlength = 4\n",
    "seqlen = 200;\n",
    "model.add(Conv1D(filters=nfilt, kernel_size=filtlength,kernel_initializer = 'ones',\n",
    "                 input_shape=(seqlen,4), activation='relu'))\n",
    "model.add(GlobalAveragePooling1D())\n",
    "model.add(Dense(1, kernel_initializer='ones' ,activation='sigmoid'))\n",
    "model.compile(optimizer='rmsprop',\n",
    "              loss='binary_crossentropy',\n",
    "              metrics=['accuracy'])\n",
    "model.summary()\n",
    "model0 = model"
   ]
  },
  {
   "cell_type": "code",
   "execution_count": 162,
   "metadata": {},
   "outputs": [
    {
     "data": {
      "text/plain": [
       "0.1705780029296875"
      ]
     },
     "execution_count": 162,
     "metadata": {},
     "output_type": "execute_result"
    }
   ],
   "source": [
    "nseqs = 64*1024\n",
    "# seqs = randseq(nseqs*seqlen).reshape(nseqs,seqlen)\n",
    "acgt = 'ACGT';\n",
    "# acgt_to_int = dict((c,i) for i,c in enumerate(acgt))\n",
    "\n",
    "seqs_ind = np.random.randint(0,4,(nseqs,seqlen))\n",
    "seqs_onehot = to_categorical(seqs_ind)\n",
    "seqs = []\n",
    "for i,x in enumerate(seqs_ind):\n",
    "    seqs.append(''.join([acgt[xi] for xi in x]))\n",
    "# seqs_onehot = np.zeros((nseqs,seqlen,4))\n",
    "# for i in range(nseqs):\n",
    "#     for j in range(seqlen):\n",
    "#         x = seqs[i,j]\n",
    "#         seqs_onehot[i,j,acgt_to_int[x]] = 1\n",
    "        \n",
    "targetseq = 'CACTA' # Any sequence that contains this fragment will be methylated\n",
    "methylation = np.zeros(nseqs)\n",
    "for i, seq in enumerate(seqs):\n",
    "    x = seq.find(targetseq)\n",
    "    if x>0:\n",
    "        methylation[i] = 1\n",
    "np.mean(methylation)"
   ]
  },
  {
   "cell_type": "code",
   "execution_count": 163,
   "metadata": {},
   "outputs": [
    {
     "name": "stdout",
     "output_type": "stream",
     "text": [
      "Train on 49152 samples, validate on 16384 samples\n",
      "Epoch 1/100\n",
      "49152/49152 [==============================] - 9s 184us/step - loss: 0.9303 - acc: 0.5864 - val_loss: 0.4575 - val_acc: 0.8331\n",
      "Epoch 2/100\n",
      "49152/49152 [==============================] - 8s 156us/step - loss: 0.4597 - acc: 0.8282 - val_loss: 0.4511 - val_acc: 0.8331\n",
      "Epoch 3/100\n",
      "49152/49152 [==============================] - 8s 156us/step - loss: 0.4588 - acc: 0.8282 - val_loss: 0.4510 - val_acc: 0.8331\n",
      "Epoch 4/100\n",
      "49152/49152 [==============================] - 8s 158us/step - loss: 0.4588 - acc: 0.8282 - val_loss: 0.4510 - val_acc: 0.8331\n",
      "Epoch 5/100\n",
      "49152/49152 [==============================] - 8s 156us/step - loss: 0.4588 - acc: 0.8282 - val_loss: 0.4510 - val_acc: 0.8331\n",
      "Epoch 6/100\n",
      "49152/49152 [==============================] - 8s 159us/step - loss: 0.4588 - acc: 0.8282 - val_loss: 0.4510 - val_acc: 0.8331\n",
      "Epoch 7/100\n",
      "49152/49152 [==============================] - 8s 158us/step - loss: 0.4588 - acc: 0.8282 - val_loss: 0.4510 - val_acc: 0.8331\n",
      "Epoch 8/100\n",
      "49152/49152 [==============================] - 7s 151us/step - loss: 0.4588 - acc: 0.8282 - val_loss: 0.4510 - val_acc: 0.8331\n",
      "Epoch 9/100\n",
      "49152/49152 [==============================] - 8s 154us/step - loss: 0.4588 - acc: 0.8282 - val_loss: 0.4510 - val_acc: 0.8331\n",
      "Epoch 10/100\n",
      "49152/49152 [==============================] - 8s 155us/step - loss: 0.4588 - acc: 0.8282 - val_loss: 0.4510 - val_acc: 0.8331\n",
      "Epoch 11/100\n",
      "49152/49152 [==============================] - 8s 155us/step - loss: 0.4588 - acc: 0.8282 - val_loss: 0.4510 - val_acc: 0.8331\n",
      "Epoch 12/100\n",
      "49152/49152 [==============================] - 7s 152us/step - loss: 0.4588 - acc: 0.8282 - val_loss: 0.4510 - val_acc: 0.8331\n",
      "Epoch 13/100\n",
      "49152/49152 [==============================] - 7s 148us/step - loss: 0.4588 - acc: 0.8282 - val_loss: 0.4510 - val_acc: 0.8331\n",
      "Epoch 14/100\n",
      "49152/49152 [==============================] - 7s 151us/step - loss: 0.4588 - acc: 0.8282 - val_loss: 0.4510 - val_acc: 0.8331\n",
      "Epoch 15/100\n",
      "49152/49152 [==============================] - 7s 150us/step - loss: 0.4588 - acc: 0.8282 - val_loss: 0.4510 - val_acc: 0.8331\n"
     ]
    }
   ],
   "source": [
    "# Train the model, iterating on the data in batches of 32 samples\n",
    "# model = model0\n",
    "callbacks = [EarlyStopping(monitor='val_loss', patience=10,mode = 'min')]\n",
    "history = (model.fit(seqs_onehot, methylation, validation_split=0.25,callbacks=callbacks,\n",
    "                    epochs=100, verbose=1, shuffle=False))\n",
    "# pred = model.predict(seqs_onehot)"
   ]
  },
  {
   "cell_type": "code",
   "execution_count": 156,
   "metadata": {},
   "outputs": [
    {
     "data": {
      "image/png": "[encoded data removed]",
      "text/plain": [
       "<matplotlib.figure.Figure at 0x7fa456667ac8>"
      ]
     },
     "metadata": {
      "needs_background": "light"
     },
     "output_type": "display_data"
    },
    {
     "data": {
      "image/png": "[encoded data removed]",
      "text/plain": [
       "<matplotlib.figure.Figure at 0x7fa4a01de400>"
      ]
     },
     "metadata": {
      "needs_background": "light"
     },
     "output_type": "display_data"
    }
   ],
   "source": [
    "# history = model.fit(x, y, validation_split=0.25, epochs=50, batch_size=16, verbose=1)\n",
    "\n",
    "# Plot training & validation accuracy values\n",
    "plt.plot(history.history['acc'])\n",
    "plt.plot(history.history['val_acc'])\n",
    "plt.title('Model accuracy')\n",
    "plt.ylabel('Accuracy')\n",
    "plt.xlabel('Epoch')\n",
    "plt.legend(['Train', 'Test'], loc='upper left')\n",
    "plt.show()\n",
    "\n",
    "# Plot training & validation loss values\n",
    "plt.plot(history.history['loss'])\n",
    "plt.plot(history.history['val_loss'])\n",
    "plt.title('Model loss')\n",
    "plt.ylabel('Loss')\n",
    "plt.xlabel('Epoch')\n",
    "plt.legend(['Train', 'Test'], loc='upper left')\n",
    "plt.show()\n"
   ]
  },
  {
   "cell_type": "code",
   "execution_count": 50,
   "metadata": {},
   "outputs": [
    {
     "data": {
      "image/png": "[encoded data removed]",
      "text/plain": [
       "<Figure size 432x288 with 1 Axes>"
      ]
     },
     "metadata": {},
     "output_type": "display_data"
    }
   ],
   "source": [
    "df = pd.DataFrame(data = {'methylation': methylation})\n",
    "# df.add(seqs_onehot)\n",
    "df['seqs'] = seqs\n",
    "df['meth_hat'] = model.predict(seqs_onehot)\n",
    "# df.boxplot(column='meth_hat', by='methylation')\n",
    "ax = sns.violinplot(x=\"methylation\", y=\"meth_hat\", data=df)"
   ]
  },
  {
   "cell_type": "code",
   "execution_count": 60,
   "metadata": {},
   "outputs": [
    {
     "data": {
      "text/plain": [
       "<keras.layers.convolutional.Conv1D at 0x7fd40b1b7b00>"
      ]
     },
     "execution_count": 60,
     "metadata": {},
     "output_type": "execute_result"
    }
   ],
   "source": [
    "# ?model.get_layer\n",
    "model.get_layer(index=0).ipynb_checkpoints/"
   ]
  },
  {
   "cell_type": "code",
   "execution_count": 105,
   "metadata": {},
   "outputs": [
    {
     "data": {
      "text/plain": [
       "(65536, 40, 4)"
      ]
     },
     "execution_count": 105,
     "metadata": {},
     "output_type": "execute_result"
    }
   ],
   "source": [
    "seqs_onehot.shape"
   ]
  },
  {
   "cell_type": "code",
   "execution_count": 107,
   "metadata": {},
   "outputs": [
    {
     "data": {
      "text/plain": [
       "array([[0., 1., 0., 0.],\n",
       "       [0., 0., 1., 0.],\n",
       "       [0., 0., 0., 1.],\n",
       "       [1., 0., 0., 0.],\n",
       "       [0., 0., 0., 1.],\n",
       "       [0., 0., 1., 0.],\n",
       "       [0., 0., 1., 0.],\n",
       "       [1., 0., 0., 0.],\n",
       "       [1., 0., 0., 0.],\n",
       "       [0., 0., 0., 1.],\n",
       "       [1., 0., 0., 0.],\n",
       "       [0., 0., 1., 0.],\n",
       "       [0., 0., 1., 0.],\n",
       "       [0., 0., 1., 0.],\n",
       "       [0., 0., 1., 0.],\n",
       "       [0., 0., 1., 0.],\n",
       "       [0., 0., 1., 0.],\n",
       "       [0., 0., 1., 0.],\n",
       "       [0., 0., 1., 0.],\n",
       "       [1., 0., 0., 0.],\n",
       "       [0., 1., 0., 0.],\n",
       "       [0., 1., 0., 0.],\n",
       "       [0., 1., 0., 0.],\n",
       "       [1., 0., 0., 0.],\n",
       "       [0., 0., 0., 1.],\n",
       "       [0., 0., 1., 0.],\n",
       "       [0., 1., 0., 0.],\n",
       "       [1., 0., 0., 0.],\n",
       "       [1., 0., 0., 0.],\n",
       "       [0., 0., 1., 0.],\n",
       "       [0., 0., 0., 1.],\n",
       "       [0., 1., 0., 0.],\n",
       "       [0., 1., 0., 0.],\n",
       "       [1., 0., 0., 0.],\n",
       "       [0., 0., 0., 1.],\n",
       "       [1., 0., 0., 0.],\n",
       "       [0., 0., 1., 0.],\n",
       "       [1., 0., 0., 0.],\n",
       "       [0., 1., 0., 0.],\n",
       "       [0., 1., 0., 0.]], dtype=float32)"
      ]
     },
     "execution_count": 107,
     "metadata": {},
     "output_type": "execute_result"
    }
   ],
   "source": [
    "seqs_onehot[0]"
   ]
  },
  {
   "cell_type": "code",
   "execution_count": null,
   "metadata": {},
   "outputs": [],
   "source": []
  }
 ],
 "metadata": {
  "kernelspec": {
   "display_name": "Python 3",
   "language": "python",
   "name": "python3"
  },
  "language_info": {
   "codemirror_mode": {
    "name": "ipython",
    "version": 3
   },
   "file_extension": ".py",
   "mimetype": "text/x-python",
   "name": "python",
   "nbconvert_exporter": "python",
   "pygments_lexer": "ipython3",
   "version": "3.5.2"
  }
 },
 "nbformat": 4,
 "nbformat_minor": 2
}
