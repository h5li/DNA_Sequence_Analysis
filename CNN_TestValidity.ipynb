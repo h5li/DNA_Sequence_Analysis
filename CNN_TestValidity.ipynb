{
 "cells": [
  {
   "cell_type": "code",
   "execution_count": 224,
   "metadata": {},
   "outputs": [],
   "source": [
    "import numpy as np\n",
    "np.random.seed(3)\n",
    "from pybedtools import BedTool\n",
    "import pybedtools\n",
    "import pandas as pd\n",
    "import tensorflow as tf\n",
    "from keras.models import Sequential\n",
    "from keras.layers import Dense, Flatten, Dropout,BatchNormalization,Activation\n",
    "from keras.layers import Conv1D, MaxPooling1D,Conv2D,MaxPooling2D,GlobalAveragePooling1D\n",
    "from keras.layers import Dropout\n",
    "from keras.optimizers import Adam\n",
    "from keras import regularizers as kr\n",
    "from keras import initializers\n",
    "from keras.callbacks import EarlyStopping\n",
    "from keras.utils import np_utils, to_categorical\n",
    "# custom R2-score metrics for keras backend\n",
    "from tensorflow.python.keras import backend as K\n",
    "import matplotlib.pyplot as plt\n",
    "\n",
    "import os\n",
    "from sklearn.metrics import r2_score\n",
    "from tensorflow.python.keras.callbacks import EarlyStopping"
   ]
  },
  {
   "cell_type": "code",
   "execution_count": 225,
   "metadata": {},
   "outputs": [],
   "source": [
    "def read_data(bed_file,fasta_file):\n",
    "    #apply bedtools to read fasta files '/home/h5li/methylation_DMR/data/DMR_coordinates_extended_b500.bed'\n",
    "    a = pybedtools.example_bedtool( bed_file )\n",
    "    # '/home/h5li/methylation_DMR/data/mm10.fasta'\n",
    "    fasta = pybedtools.example_filename( fasta_file )\n",
    "    a = a.sequence(fi=fasta)\n",
    "    seq = open(a.seqfn).read()\n",
    "    #read and extract DNA sequences \n",
    "    DNA_seq_list = seq.split('\\n')\n",
    "    DNA_seq_list.pop()\n",
    "    DNA_seq = []\n",
    "    m = 10000\n",
    "    n = 0\n",
    "    for index in range(len(DNA_seq_list)//2):\n",
    "        DNA_seq.append(DNA_seq_list[index*2 + 1].upper())\n",
    "        if len(DNA_seq_list[index*2 + 1]) < m:\n",
    "            m = len(DNA_seq_list[index*2 + 1])\n",
    "        if len(DNA_seq_list[index*2 + 1]) > n:\n",
    "            n = len(DNA_seq_list[index*2 + 1])\n",
    "    print('The shortest length of DNA sequence is {0}bp'.format(m))\n",
    "    print('The longest length of DNA sequence is {0}bp'.format(n))\n",
    "    return DNA_seq,n,m"
   ]
  },
  {
   "cell_type": "code",
   "execution_count": 226,
   "metadata": {},
   "outputs": [],
   "source": [
    "def extend_Data(targetLength,dnaSeqList):\n",
    "    newDNAList = []\n",
    "    for seq in dnaSeqList:\n",
    "        if len(seq) < targetLength:\n",
    "            diff = targetLength - len(seq)\n",
    "            if diff % 2 == 0:\n",
    "                seq += 'N' * (diff//2)\n",
    "                seq = 'N' * (diff//2) + seq\n",
    "            if diff % 2 ==1:\n",
    "                seq += 'N' *(diff//2)\n",
    "                seq = 'N' * (diff//2 + 1) + seq\n",
    "        newDNAList.append(seq)\n",
    "    return newDNAList\n",
    "\n",
    "def chop_Data(targetLength,dnaSeqList):\n",
    "    #chop DNA sequences to have same length\n",
    "    Uni_DNA = []\n",
    "    for s in dnaSeqList:\n",
    "        if len(s) < targetLength:\n",
    "            print('Exceptions!')\n",
    "        diff = len(s) - targetLength\n",
    "        if diff % 2 == 0:\n",
    "            side = diff // 2\n",
    "            Uni_DNA.append(s[side:-side])\n",
    "        else:\n",
    "            right = diff // 2\n",
    "            left = diff// 2 + 1\n",
    "            Uni_DNA.append(s[left:-right])\n",
    "    return Uni_DNA"
   ]
  },
  {
   "cell_type": "code",
   "execution_count": 227,
   "metadata": {},
   "outputs": [],
   "source": [
    "#below are helper methods\n",
    "def data_aug(seq):\n",
    "    new_seq = []\n",
    "    for i in range(len(seq)):\n",
    "        l = seq[i]\n",
    "        if l == 'A':\n",
    "            new_seq.append( 'T' )\n",
    "        elif l == 'C':\n",
    "            new_seq.append( 'G' )\n",
    "        elif l == 'G':\n",
    "            new_seq.append( 'C' )\n",
    "        elif l == 'T':\n",
    "            new_seq.append( 'A' )\n",
    "        else:\n",
    "            new_seq.append( 'N' )\n",
    "    return new_seq\n",
    "\n",
    "def data_rev(seq):\n",
    "    new_seq = [None] * len(seq)\n",
    "    for i in range(len(seq)):\n",
    "        new_seq[-i] = seq[i]\n",
    "    return new_seq      \n",
    "\n",
    "def mse_keras(y_true, y_pred):\n",
    "    SS_res =  K.sum( K.square( y_true - y_pred ) ) \n",
    "    SS_tot = K.sum( K.square( y_true - K.mean( y_true ) ) ) \n",
    "    return ( SS_res/SS_tot)\n",
    "\n",
    "def R2_score(y_true, y_pred):\n",
    "    SS_res =  K.sum(K.square( y_true-y_pred )) \n",
    "    SS_tot = K.sum(K.square( y_true - K.mean(y_true) ) ) \n",
    "    return ( 1 - SS_res/(SS_tot) )"
   ]
  },
  {
   "cell_type": "code",
   "execution_count": 228,
   "metadata": {},
   "outputs": [],
   "source": [
    "def preprocess_data(DNA_seq):\n",
    "\n",
    "    train_size = len(DNA_seq)\n",
    "\n",
    "    #One hot encoding \n",
    "    DNA = []\n",
    "    for u in DNA_seq:\n",
    "        sequence_vector = []\n",
    "        for c in u:\n",
    "            if c == 'A':\n",
    "                sequence_vector.append([1,0,0,0])\n",
    "            elif c == 'C':\n",
    "                sequence_vector.append([0,1,0,0])\n",
    "            elif c == 'G':\n",
    "                sequence_vector.append([0,0,1,0])\n",
    "            else:\n",
    "                sequence_vector.append([0,0,0,1])\n",
    "        DNA.append(np.array(sequence_vector))\n",
    "    DNA = np.array(DNA)\n",
    "    print(DNA.shape)\n",
    "    return DNA"
   ]
  },
  {
   "cell_type": "code",
   "execution_count": 229,
   "metadata": {},
   "outputs": [],
   "source": [
    "def Formalize_Data(DNA_seq, methylation_file, target_length, cell_type):\n",
    "    #Read Methylation level\n",
    "    labels = list(pd.read_csv(methylation_file,header = None)[cell_type])\n",
    "    train_labels = np.array(labels)\n",
    "    training_seq_shape = (len(DNA_seq),target_length,4)\n",
    "    train_data = DNA_seq.reshape(training_seq_shape)\n",
    "    return train_data,train_labels"
   ]
  },
  {
   "cell_type": "code",
   "execution_count": 230,
   "metadata": {},
   "outputs": [
    {
     "name": "stdout",
     "output_type": "stream",
     "text": [
      "The shortest length of DNA sequence is 1407bp\n",
      "The longest length of DNA sequence is 5829bp\n"
     ]
    }
   ],
   "source": [
    "bed_file_path = '/home/h5li/methylation_DMR/data/DMR_coordinates_extended_b500.bed'\n",
    "fasta_file_path = '/home/h5li/methylation_DMR/data/mm10.fasta'\n",
    "methylation_file_path = '../../data/Mouse_DMRs_methylation_level.csv'\n",
    "total_counts_file_path ='../../data/Mouse_DMRs_counts_total.csv'\n",
    "methy_counts_file_path = '../../data/Mouse_DMRs_counts_methylated.csv'\n",
    "    \n",
    "\n",
    "cell_type = 5\n",
    "apply_sample_weight = False\n",
    "    \n",
    "DNA_seq,long_length,short_length = read_data(bed_file_path, fasta_file_path)   \n",
    "\n",
    "target_length = 200"
   ]
  },
  {
   "cell_type": "code",
   "execution_count": 231,
   "metadata": {},
   "outputs": [],
   "source": [
    "DNA_seq = chop_Data(target_length,DNA_seq)"
   ]
  },
  {
   "cell_type": "code",
   "execution_count": 232,
   "metadata": {},
   "outputs": [
    {
     "name": "stdout",
     "output_type": "stream",
     "text": [
      "200\n"
     ]
    }
   ],
   "source": [
    "print(len(DNA_seq[0]))"
   ]
  },
  {
   "cell_type": "code",
   "execution_count": 233,
   "metadata": {},
   "outputs": [
    {
     "name": "stdout",
     "output_type": "stream",
     "text": [
      "73 980424\n",
      "TTTC\n",
      "0.6085439571585054\n"
     ]
    }
   ],
   "source": [
    "#This Part of code id used to check the validity of CNN architecture\n",
    "\n",
    "#We plan to start from single pattern in DNA sequence and the DNA methylation level is 0 or 1.\n",
    "#Then we try with the same pattern and we use a random normal distribution to evaluate the\n",
    "#methylation level to further simulate the DMR regions\n",
    "\n",
    "\n",
    "# single pattern starts from here\n",
    "\n",
    "# find out the most common patter first\n",
    "Kmers_count = pd.read_csv('/cndd/emukamel/snmCSeq/DMR/Kmer_Features/Kmers_K4_counts.csv',header = None)\n",
    "Kmers_count = Kmers_count.drop([0],axis = 1)\n",
    "\n",
    "maxNum = 0\n",
    "maxIndex = 0\n",
    "for n in Kmers_count.columns:\n",
    "    if Kmers_count[n].sum() > maxNum:\n",
    "        maxNum = Kmers_count[n].sum()\n",
    "        maxIndex = n - 1\n",
    "print(maxIndex, maxNum)\n",
    "\n",
    "targetKmers = pd.read_csv('/cndd/emukamel/snmCSeq/DMR/Kmer_Features/Kmers_K4_sequences.csv',header = None)[0][maxIndex]\n",
    "#targetKmers += 'G'\n",
    "print(targetKmers)\n",
    "\n",
    "methylation_level = []\n",
    "DNA_len100 = []\n",
    "m1 = 0\n",
    "m0 = 0\n",
    "for n in range(len(DNA_seq)):\n",
    "    if targetKmers in DNA_seq[n] and m1<30000:\n",
    "        methylation_level.append(1)\n",
    "        DNA_len100.append(DNA_seq[n])\n",
    "        m1 += 1\n",
    "    elif (targetKmers not in DNA_seq[n]) and m0 < 30000:\n",
    "        methylation_level.append(0)\n",
    "        DNA_len100.append(DNA_seq[n])\n",
    "        m0 += 1\n",
    "print(sum(methylation_level)/len(methylation_level))"
   ]
  },
  {
   "cell_type": "code",
   "execution_count": 234,
   "metadata": {},
   "outputs": [
    {
     "name": "stdout",
     "output_type": "stream",
     "text": [
      "(49298, 200, 4)\n"
     ]
    }
   ],
   "source": [
    "DNA = preprocess_data(DNA_len100)"
   ]
  },
  {
   "cell_type": "code",
   "execution_count": 235,
   "metadata": {},
   "outputs": [],
   "source": [
    "train_data,train_labels = Formalize_Data(DNA, methylation_file_path, target_length, cell_type)\n",
    "#train_labels = train_labels - np.full((train_labels.shape),np.mean(train_labels))\n",
    "#train_labels = to_categorical(np.array(methylation_level))\n",
    "train_labels = np.array(methylation_level)"
   ]
  },
  {
   "cell_type": "code",
   "execution_count": 236,
   "metadata": {},
   "outputs": [],
   "source": [
    "init = initializers.RandomNormal(mean=1, stddev=0.5, seed=None)\n",
    "k_r = kr.l2(1e-6)"
   ]
  },
  {
   "cell_type": "code",
   "execution_count": 237,
   "metadata": {},
   "outputs": [
    {
     "data": {
      "text/plain": [
       "(49298, 200, 4)"
      ]
     },
     "execution_count": 237,
     "metadata": {},
     "output_type": "execute_result"
    }
   ],
   "source": [
    "train_data.shape"
   ]
  },
  {
   "cell_type": "code",
   "execution_count": 239,
   "metadata": {},
   "outputs": [
    {
     "name": "stdout",
     "output_type": "stream",
     "text": [
      "_________________________________________________________________\n",
      "Layer (type)                 Output Shape              Param #   \n",
      "=================================================================\n",
      "conv1d_29 (Conv1D)           (None, 197, 1)            17        \n",
      "_________________________________________________________________\n",
      "global_average_pooling1d_29  (None, 1)                 0         \n",
      "_________________________________________________________________\n",
      "dense_28 (Dense)             (None, 1)                 2         \n",
      "=================================================================\n",
      "Total params: 19\n",
      "Trainable params: 19\n",
      "Non-trainable params: 0\n",
      "_________________________________________________________________\n"
     ]
    }
   ],
   "source": [
    "nfilt = 1\n",
    "filtlength = 4\n",
    "seqlen = target_length;\n",
    "model = Sequential()\n",
    "model.add(Conv1D(filters=nfilt, kernel_size=filtlength,kernel_initializer = 'ones',\n",
    "                 input_shape=(seqlen,4), activation='relu'))\n",
    "model.add(GlobalAveragePooling1D())\n",
    "model.add(Dense(1, kernel_initializer='ones' ,activation='sigmoid'))\n",
    "model.compile(optimizer='adam',\n",
    "              loss='binary_crossentropy',\n",
    "              metrics=['accuracy'])\n",
    "model.summary()"
   ]
  },
  {
   "cell_type": "code",
   "execution_count": null,
   "metadata": {},
   "outputs": [],
   "source": [
    "callbacks = [EarlyStopping(monitor='val_loss', patience=10,mode = 'min')]\n",
    "history = model.fit(train_data, train_labels, epochs=500, callbacks = callbacks,\n",
    "                    validation_split = 0.25,shuffle = False,\n",
    "                        batch_size=100,verbose=1)"
   ]
  },
  {
   "cell_type": "code",
   "execution_count": 199,
   "metadata": {},
   "outputs": [
    {
     "data": {
      "image/png": "[encoded data removed]",
      "text/plain": [
       "<matplotlib.figure.Figure at 0x7f4a9fade3c8>"
      ]
     },
     "metadata": {
      "needs_background": "light"
     },
     "output_type": "display_data"
    }
   ],
   "source": [
    "plt.plot(history.history['acc'])\n",
    "plt.plot(history.history['val_acc'])\n",
    "plt.title('CNN Accuracy')\n",
    "plt.ylabel('Accuracy')\n",
    "plt.xlabel('epoch')\n",
    "plt.legend(['train', 'test'], loc='upper left')\n",
    "plt.show()"
   ]
  },
  {
   "cell_type": "code",
   "execution_count": 22,
   "metadata": {},
   "outputs": [
    {
     "data": {
      "text/plain": [
       "0.4125111622879165"
      ]
     },
     "execution_count": 22,
     "metadata": {},
     "output_type": "execute_result"
    }
   ],
   "source": [
    "np.mean(train_labels)"
   ]
  },
  {
   "cell_type": "code",
   "execution_count": null,
   "metadata": {},
   "outputs": [],
   "source": []
  }
 ],
 "metadata": {
  "kernelspec": {
   "display_name": "Python 3",
   "language": "python",
   "name": "python3"
  },
  "language_info": {
   "codemirror_mode": {
    "name": "ipython",
    "version": 3
   },
   "file_extension": ".py",
   "mimetype": "text/x-python",
   "name": "python",
   "nbconvert_exporter": "python",
   "pygments_lexer": "ipython3",
   "version": "3.5.2"
  }
 },
 "nbformat": 4,
 "nbformat_minor": 2
}
